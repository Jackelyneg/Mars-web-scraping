{
 "cells": [
  {
   "cell_type": "code",
   "execution_count": 1,
   "metadata": {},
   "outputs": [],
   "source": [
    "# Dependencies\n",
    "from bs4 import BeautifulSoup as bs\n",
    "from splinter import Browser\n",
    "from webdriver_manager.chrome import ChromeDriverManager\n",
    "import pandas as pd\n",
    "import time"
   ]
  },
  {
   "cell_type": "code",
   "execution_count": 2,
   "metadata": {
    "scrolled": true
   },
   "outputs": [
    {
     "name": "stderr",
     "output_type": "stream",
     "text": [
      "\n",
      "\n",
      "====== WebDriver manager ======\n",
      "Current google-chrome version is 91.0.4472\n",
      "Get LATEST driver version for 91.0.4472\n",
      "Driver [C:\\Users\\jacke\\.wdm\\drivers\\chromedriver\\win32\\91.0.4472.101\\chromedriver.exe] found in cache\n"
     ]
    }
   ],
   "source": [
    "executable_path = {'executable_path': ChromeDriverManager().install()}\n",
    "browser = Browser('chrome', **executable_path, headless=False)"
   ]
  },
  {
   "cell_type": "markdown",
   "metadata": {},
   "source": [
    "# NASA Mars News"
   ]
  },
  {
   "cell_type": "code",
   "execution_count": 41,
   "metadata": {},
   "outputs": [],
   "source": [
    "mars_url = 'https://redplanetscience.com/'\n",
    "browser.visit(mars_url)"
   ]
  },
  {
   "cell_type": "code",
   "execution_count": 42,
   "metadata": {},
   "outputs": [],
   "source": [
    "html = browser.html\n",
    "mars_soup = bs(html, 'html.parser')"
   ]
  },
  {
   "cell_type": "code",
   "execution_count": 17,
   "metadata": {},
   "outputs": [
    {
     "data": {
      "text/plain": [
       "\"While Stargazing on Mars, NASA's Curiosity Rover Spots Earth and Venus\""
      ]
     },
     "execution_count": 17,
     "metadata": {},
     "output_type": "execute_result"
    }
   ],
   "source": [
    "news_title = mars_soup.find('div', class_='content_title').text\n",
    "news_title"
   ]
  },
  {
   "cell_type": "code",
   "execution_count": 18,
   "metadata": {},
   "outputs": [
    {
     "data": {
      "text/plain": [
       "\"This new portrait of the Red Planet's neighbors was taken during a time when there's more dust in the air on Mars.\""
      ]
     },
     "execution_count": 18,
     "metadata": {},
     "output_type": "execute_result"
    }
   ],
   "source": [
    "news_p = mars_soup.find('div',class_=\"article_teaser_body\").text\n",
    "news_p"
   ]
  },
  {
   "cell_type": "markdown",
   "metadata": {},
   "source": [
    "# JPL Mars Space Images"
   ]
  },
  {
   "cell_type": "code",
   "execution_count": 19,
   "metadata": {},
   "outputs": [],
   "source": [
    "image_url = 'https://spaceimages-mars.com/'\n",
    "browser.visit(image_url)"
   ]
  },
  {
   "cell_type": "code",
   "execution_count": 20,
   "metadata": {},
   "outputs": [],
   "source": [
    "html = browser.html\n",
    "image_soup = bs(html, 'html.parser')"
   ]
  },
  {
   "cell_type": "code",
   "execution_count": 21,
   "metadata": {},
   "outputs": [
    {
     "data": {
      "text/plain": [
       "[<img id=\"logo\" src=\"image/nasa.png\"/>,\n",
       " <img class=\"headerimage fade-in\" src=\"image/featured/mars1.jpg\"/>,\n",
       " <img alt=\"\" class=\"thumbimg\" src=\"image/mars/Icaria Fossae7.jpg\"/>,\n",
       " <img alt=\"\" class=\"thumbimg\" src=\"image/mars/Proctor Crater Dunes 7.jpg\"/>,\n",
       " <img alt=\"\" class=\"thumbimg\" src=\"image/mars/Icaria Fossae7.jpg\"/>,\n",
       " <img alt=\"\" class=\"thumbimg\" src=\"image/mars/Proctor Crater Dunes 7.jpg\"/>,\n",
       " <img alt=\"\" class=\"thumbimg\" src=\"image/mars/Proctor Crater Dunes 7.jpg\"/>,\n",
       " <img alt=\"\" class=\"thumbimg\" src=\"image/mars/Icaria Fossae7.jpg\"/>,\n",
       " <img alt=\"\" class=\"thumbimg\" src=\"image/mars/Icaria Fossae.jpg\"/>,\n",
       " <img alt=\"\" class=\"thumbimg\" src=\"image/mars/Ariadnes Colles4.jpg\"/>,\n",
       " <img alt=\"\" class=\"thumbimg\" src=\"image/mars/Niger Vallis.jpg\"/>,\n",
       " <img alt=\"\" class=\"thumbimg\" src=\"image/mars/Proctor Crater Dunes.jpg\"/>,\n",
       " <img alt=\"\" class=\"thumbimg\" src=\"image/mars/Niger Vallis.jpg\"/>,\n",
       " <img alt=\"\" class=\"thumbimg\" src=\"image/mars/Daedalia Planum.jpg\"/>,\n",
       " <img alt=\"\" class=\"thumbimg\" src=\"image/mars/Sirenum Fossae.jpg\"/>,\n",
       " <img alt=\"\" class=\"thumbimg\" src=\"image/mars/Ariadnes Colles4.jpg\"/>,\n",
       " <img alt=\"\" class=\"thumbimg\" src=\"image/mars/South Polar Cap.jpg\"/>,\n",
       " <img alt=\"\" class=\"thumbimg\" src=\"image/mars/Daedalia Planum.jpg\"/>,\n",
       " <img alt=\"\" class=\"thumbimg\" src=\"image/mars/Ariadnes Colles3.jpg\"/>,\n",
       " <img alt=\"\" class=\"thumbimg\" src=\"image/mars/Atlantis Chaos.jpg\"/>,\n",
       " <img alt=\"\" class=\"thumbimg\" src=\"image/mars/Daedalia Planum.jpg\"/>,\n",
       " <img alt=\"\" class=\"thumbimg\" src=\"image/mars/Icaria Fossae.jpg\"/>,\n",
       " <img alt=\"\" class=\"thumbimg\" src=\"image/mars/Niger Vallis.jpg\"/>,\n",
       " <img alt=\"\" class=\"thumbimg\" src=\"image/mars/Proctor Crater Dunes.jpg\"/>,\n",
       " <img alt=\"\" class=\"thumbimg\" src=\"image/mars/Reull Vallis.jpg\"/>,\n",
       " <img alt=\"\" class=\"thumbimg\" src=\"image/mars/Ariadnes Colles3.jpg\"/>,\n",
       " <img alt=\"\" class=\"thumbimg\" src=\"image/mars/Sirenum Fossae.jpg\"/>,\n",
       " <img alt=\"\" class=\"thumbimg\" src=\"image/mars/South Polar Cap.jpg\"/>,\n",
       " <img alt=\"\" class=\"thumbimg\" src=\"image/mars/Niger Vallis.jpg\"/>,\n",
       " <img alt=\"\" class=\"thumbimg\" src=\"image/mars/Daedalia Planum.jpg\"/>,\n",
       " <img alt=\"\" class=\"thumbimg\" src=\"image/mars/Icaria Fossae.jpg\"/>,\n",
       " <img alt=\"\" class=\"thumbimg\" src=\"image/mars/Ariadnes Colles4.jpg\"/>,\n",
       " <img alt=\"\" class=\"thumbimg\" src=\"image/mars/South Polar Cap.jpg\"/>,\n",
       " <img alt=\"\" class=\"thumbimg\" src=\"image/mars/Daedalia Planum.jpg\"/>,\n",
       " <img id=\"pic\" src=\"\"/>,\n",
       " <img alt=\"Card image cap\" class=\"card-img-top\" src=\"https://www.jpl.nasa.gov/assets/images/content/tmp/images/jpl_photojournal(3x1).jpg\"/>,\n",
       " <img alt=\"Card image cap\" class=\"card-img-top\" src=\"https://www.jpl.nasa.gov/assets/images/content/tmp/images/nasa_images(3x1).jpg\"/>,\n",
       " <img alt=\"Card image cap\" class=\"card-img-top\" src=\"https://imagecache.jpl.nasa.gov/images/640x350/C1-PIA24304---CatScanMars-16-640x350.gif\"/>,\n",
       " <img alt=\"Card image cap\" class=\"card-img-top\" src=\"https://imagecache.jpl.nasa.gov/images/640x350/PIA23491-16-640x350.jpg\"/>,\n",
       " <img alt=\"Card image cap\" class=\"card-img-top\" src=\"https://imagecache.jpl.nasa.gov/images/640x350/C1-PIA23180-16-640x350.gif\"/>]"
      ]
     },
     "execution_count": 21,
     "metadata": {},
     "output_type": "execute_result"
    }
   ],
   "source": [
    "find_image_url = image_soup.find_all('img')\n",
    "find_image_url"
   ]
  },
  {
   "cell_type": "code",
   "execution_count": 22,
   "metadata": {},
   "outputs": [
    {
     "data": {
      "text/plain": [
       "'image/featured/mars1.jpg'"
      ]
     },
     "execution_count": 22,
     "metadata": {},
     "output_type": "execute_result"
    }
   ],
   "source": [
    "find= image_soup.find_all('img')[1]['src']\n",
    "find"
   ]
  },
  {
   "cell_type": "code",
   "execution_count": 23,
   "metadata": {},
   "outputs": [
    {
     "data": {
      "text/plain": [
       "'image/featured/mars1.jpg'"
      ]
     },
     "execution_count": 23,
     "metadata": {},
     "output_type": "execute_result"
    }
   ],
   "source": [
    "find_image= find_image_url[1]['src']\n",
    "find_image"
   ]
  },
  {
   "cell_type": "code",
   "execution_count": 24,
   "metadata": {},
   "outputs": [
    {
     "name": "stdout",
     "output_type": "stream",
     "text": [
      "https://spaceimages-mars.com/image/featured/mars1.jpg\n"
     ]
    }
   ],
   "source": [
    "base_url = 'https://spaceimages-mars.com/'\n",
    "featured_image_url = find_image_url[1]['src']\n",
    "featured_image_url = base_url + featured_image_url\n",
    "print(featured_image_url)"
   ]
  },
  {
   "cell_type": "markdown",
   "metadata": {},
   "source": [
    "# Mars Facts"
   ]
  },
  {
   "cell_type": "code",
   "execution_count": 3,
   "metadata": {},
   "outputs": [],
   "source": [
    "df = pd.read_html('https://galaxyfacts-mars.com/')[0]\n",
    "df.columns = ['description', 'Mars', 'earth']\n",
    "df.set_index('description',inplace=True)\n",
    "df_html = df.to_html(classes = \"table table-striped\")"
   ]
  },
  {
   "cell_type": "code",
   "execution_count": 4,
   "metadata": {},
   "outputs": [
    {
     "data": {
      "text/plain": [
       "'<table border=\"1\" class=\"dataframe table table-striped\">\\n  <thead>\\n    <tr style=\"text-align: right;\">\\n      <th></th>\\n      <th>Mars</th>\\n      <th>earth</th>\\n    </tr>\\n    <tr>\\n      <th>description</th>\\n      <th></th>\\n      <th></th>\\n    </tr>\\n  </thead>\\n  <tbody>\\n    <tr>\\n      <th>Mars - Earth Comparison</th>\\n      <td>Mars</td>\\n      <td>Earth</td>\\n    </tr>\\n    <tr>\\n      <th>Diameter:</th>\\n      <td>6,779 km</td>\\n      <td>12,742 km</td>\\n    </tr>\\n    <tr>\\n      <th>Mass:</th>\\n      <td>6.39 × 10^23 kg</td>\\n      <td>5.97 × 10^24 kg</td>\\n    </tr>\\n    <tr>\\n      <th>Moons:</th>\\n      <td>2</td>\\n      <td>1</td>\\n    </tr>\\n    <tr>\\n      <th>Distance from Sun:</th>\\n      <td>227,943,824 km</td>\\n      <td>149,598,262 km</td>\\n    </tr>\\n    <tr>\\n      <th>Length of Year:</th>\\n      <td>687 Earth days</td>\\n      <td>365.24 days</td>\\n    </tr>\\n    <tr>\\n      <th>Temperature:</th>\\n      <td>-87 to -5 °C</td>\\n      <td>-88 to 58°C</td>\\n    </tr>\\n  </tbody>\\n</table>'"
      ]
     },
     "execution_count": 4,
     "metadata": {},
     "output_type": "execute_result"
    }
   ],
   "source": [
    "df_html"
   ]
  },
  {
   "cell_type": "markdown",
   "metadata": {},
   "source": [
    "# Mars Hemispheres"
   ]
  },
  {
   "cell_type": "code",
   "execution_count": 3,
   "metadata": {},
   "outputs": [],
   "source": [
    "hem_url = 'https://marshemispheres.com/'\n",
    "browser.visit(hem_url)"
   ]
  },
  {
   "cell_type": "code",
   "execution_count": 47,
   "metadata": {},
   "outputs": [],
   "source": [
    "html = browser.html\n",
    "hem_soup = bs(html, 'html.parser')"
   ]
  },
  {
   "cell_type": "code",
   "execution_count": 5,
   "metadata": {},
   "outputs": [
    {
     "data": {
      "text/plain": [
       "[<h3>Cerberus Hemisphere Enhanced</h3>,\n",
       " <h3>Schiaparelli Hemisphere Enhanced</h3>,\n",
       " <h3>Syrtis Major Hemisphere Enhanced</h3>,\n",
       " <h3>Valles Marineris Hemisphere Enhanced</h3>,\n",
       " <h3>Back</h3>]"
      ]
     },
     "execution_count": 5,
     "metadata": {},
     "output_type": "execute_result"
    }
   ],
   "source": [
    "hem_soup.find_all('h3')"
   ]
  },
  {
   "cell_type": "code",
   "execution_count": 48,
   "metadata": {},
   "outputs": [
    {
     "data": {
      "text/plain": [
       "'Cerberus Hemisphere Enhanced'"
      ]
     },
     "execution_count": 48,
     "metadata": {},
     "output_type": "execute_result"
    }
   ],
   "source": [
    "hem_title = hem_soup.find_all('h3')[0].text\n",
    "hem_title"
   ]
  },
  {
   "cell_type": "code",
   "execution_count": 11,
   "metadata": {},
   "outputs": [
    {
     "name": "stdout",
     "output_type": "stream",
     "text": [
      "Cerberus Hemisphere Enhanced\n",
      "https://marshemispheres.com/images/39d3266553462198bd2fbc4d18fbed17_cerberus_enhanced.tif_thumb.png\n"
     ]
    }
   ],
   "source": [
    "hem_url = 'https://marshemispheres.com/'\n",
    "browser.visit(hem_url)\n",
    "\n",
    "scrape_data = []\n",
    "for x in range(1):\n",
    "    html = browser.html\n",
    "    hem_soup = bs(html, 'html.parser')\n",
    "    hem_title = hem_soup.find_all('h3')[x].text\n",
    "    img = hem_soup.find_all('img', class_='thumb')\n",
    "    full_image = img[x]['src']\n",
    "    img_url = hem_url + full_image\n",
    "    \n",
    "    \n",
    "    \n",
    "    print(hem_title)\n",
    "    print(img_url)\n",
    "    \n",
    "    scrape_data.append({\"tile\":hem_title,\"image_url\":img_url})\n",
    "    \n",
    " "
   ]
  },
  {
   "cell_type": "code",
   "execution_count": 36,
   "metadata": {},
   "outputs": [],
   "source": [
    "mars_data = {\n",
    "        'news_title': news_title,\n",
    "        'news_article': news_p,\n",
    "        'featured_image_url': featured_image_url,\n",
    "        'mars_table': facts_find,\n",
    "        'hem_title':hem_title,\n",
    "        'hemisphere_image_urls' : scrape_data\n",
    "    }"
   ]
  },
  {
   "cell_type": "code",
   "execution_count": 38,
   "metadata": {},
   "outputs": [
    {
     "data": {
      "text/plain": [
       "{'news_title': \"While Stargazing on Mars, NASA's Curiosity Rover Spots Earth and Venus\",\n",
       " 'news_article': \"This new portrait of the Red Planet's neighbors was taken during a time when there's more dust in the air on Mars.\",\n",
       " 'featured_image_url': 'https://spaceimages-mars.com/image/featured/mars1.jpg',\n",
       " 'mars_table': <table class=\"table table-striped\">\n",
       " <tbody>\n",
       " <tr>\n",
       " <th scope=\"row\">Equatorial Diameter:</th>\n",
       " <td>6,792 km</td>\n",
       " </tr>\n",
       " <tr>\n",
       " <th scope=\"row\">Polar Diameter:</th>\n",
       " <td>6,752 km</td>\n",
       " </tr>\n",
       " <tr>\n",
       " <th scope=\"row\">Mass:</th>\n",
       " <td>\t6.39 × 10^23 kg (0.11 Earths)</td>\n",
       " </tr>\n",
       " <tr>\n",
       " <th scope=\"row\">Moons:</th>\n",
       " <td>\t2 ( <span class=\"red\">Phobos </span> &amp; <span class=\"red\"> Deimos </span>)</td>\n",
       " </tr>\n",
       " <tr>\n",
       " <th scope=\"row\">Orbit Distance:</th>\n",
       " <td>\t227,943,824 km (1.38 AU)</td>\n",
       " </tr>\n",
       " <tr>\n",
       " <th scope=\"row\">Orbit Period:</th>\n",
       " <td>\t687 days (1.9 years)</td>\n",
       " </tr>\n",
       " <tr>\n",
       " <th scope=\"row\">Surface Temperature:</th>\n",
       " <td>\t-87 to -5 °C</td>\n",
       " </tr>\n",
       " <tr>\n",
       " <th scope=\"row\">First Record:</th>\n",
       " <td>\t2nd millennium BC</td>\n",
       " </tr>\n",
       " <tr>\n",
       " <th scope=\"row\">Recorded By:</th>\n",
       " <td>\tEgyptian astronomers</td>\n",
       " </tr>\n",
       " </tbody>\n",
       " </table>,\n",
       " 'hem_title': 'Valles Marineris Hemisphere Enhanced',\n",
       " 'hemisphere_image_urls': [{'tile': 'Cerberus Hemisphere Enhanced',\n",
       "   'image_url': 'https://marshemispheres.com/images/39d3266553462198bd2fbc4d18fbed17_cerberus_enhanced.tif_thumb.png'},\n",
       "  {'tile': 'Schiaparelli Hemisphere Enhanced',\n",
       "   'image_url': 'https://marshemispheres.com/images/08eac6e22c07fb1fe72223a79252de20_schiaparelli_enhanced.tif_thumb.png'},\n",
       "  {'tile': 'Syrtis Major Hemisphere Enhanced',\n",
       "   'image_url': 'https://marshemispheres.com/images/55a0a1e2796313fdeafb17c35925e8ac_syrtis_major_enhanced.tif_thumb.png'},\n",
       "  {'tile': 'Valles Marineris Hemisphere Enhanced',\n",
       "   'image_url': 'https://marshemispheres.com/images/4e59980c1c57f89c680c0e1ccabbeff1_valles_marineris_enhanced.tif_thumb.png'}]}"
      ]
     },
     "execution_count": 38,
     "metadata": {},
     "output_type": "execute_result"
    }
   ],
   "source": [
    "mars_data"
   ]
  }
 ],
 "metadata": {
  "kernelspec": {
   "display_name": "Python 3",
   "language": "python",
   "name": "python3"
  },
  "language_info": {
   "codemirror_mode": {
    "name": "ipython",
    "version": 3
   },
   "file_extension": ".py",
   "mimetype": "text/x-python",
   "name": "python",
   "nbconvert_exporter": "python",
   "pygments_lexer": "ipython3",
   "version": "3.7.4"
  }
 },
 "nbformat": 4,
 "nbformat_minor": 2
}
